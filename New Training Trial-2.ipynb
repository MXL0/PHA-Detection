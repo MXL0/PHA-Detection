{
 "cells": [
  {
   "cell_type": "code",
   "execution_count": 1,
   "metadata": {},
   "outputs": [],
   "source": [
    "import itertools\n",
    "import numpy as np\n",
    "import matplotlib.pyplot as plt\n",
    "from matplotlib.ticker import NullFormatter\n",
    "import pandas as pd\n",
    "import numpy as np\n",
    "import matplotlib.ticker as ticker\n",
    "from sklearn import preprocessing\n",
    "%matplotlib inline"
   ]
  },
  {
   "cell_type": "code",
   "execution_count": null,
   "metadata": {},
   "outputs": [],
   "source": [
    "#Import Training Data Set"
   ]
  },
  {
   "cell_type": "code",
   "execution_count": 2,
   "metadata": {
    "scrolled": true
   },
   "outputs": [
    {
     "data": {
      "text/html": [
       "<div>\n",
       "<style scoped>\n",
       "    .dataframe tbody tr th:only-of-type {\n",
       "        vertical-align: middle;\n",
       "    }\n",
       "\n",
       "    .dataframe tbody tr th {\n",
       "        vertical-align: top;\n",
       "    }\n",
       "\n",
       "    .dataframe thead th {\n",
       "        text-align: right;\n",
       "    }\n",
       "</style>\n",
       "<table border=\"1\" class=\"dataframe\">\n",
       "  <thead>\n",
       "    <tr style=\"text-align: right;\">\n",
       "      <th></th>\n",
       "      <th>q(AU)</th>\n",
       "      <th>qerror</th>\n",
       "      <th>a(AU)</th>\n",
       "      <th>e</th>\n",
       "      <th>eerror</th>\n",
       "      <th>i(º,J2000)</th>\n",
       "      <th>ierror</th>\n",
       "      <th>w(º)</th>\n",
       "      <th>werror</th>\n",
       "      <th>Node(º)</th>\n",
       "      <th>Nodeerror</th>\n",
       "      <th>danger</th>\n",
       "    </tr>\n",
       "  </thead>\n",
       "  <tbody>\n",
       "    <tr>\n",
       "      <th>0</th>\n",
       "      <td>1.202790</td>\n",
       "      <td>1.269800e-07</td>\n",
       "      <td>1.377223</td>\n",
       "      <td>0.126656</td>\n",
       "      <td>8.990400e-08</td>\n",
       "      <td>13.664672</td>\n",
       "      <td>0.000011</td>\n",
       "      <td>144.828132</td>\n",
       "      <td>0.000094</td>\n",
       "      <td>319.015283</td>\n",
       "      <td>0.000026</td>\n",
       "      <td>0</td>\n",
       "    </tr>\n",
       "    <tr>\n",
       "      <th>1</th>\n",
       "      <td>0.640327</td>\n",
       "      <td>2.551000e-07</td>\n",
       "      <td>1.548883</td>\n",
       "      <td>0.586588</td>\n",
       "      <td>1.567800e-07</td>\n",
       "      <td>8.554460</td>\n",
       "      <td>0.000019</td>\n",
       "      <td>293.329681</td>\n",
       "      <td>0.000041</td>\n",
       "      <td>144.052793</td>\n",
       "      <td>0.000028</td>\n",
       "      <td>0</td>\n",
       "    </tr>\n",
       "    <tr>\n",
       "      <th>2</th>\n",
       "      <td>0.263830</td>\n",
       "      <td>2.510000e-03</td>\n",
       "      <td>1.260000</td>\n",
       "      <td>0.790500</td>\n",
       "      <td>2.800000e-03</td>\n",
       "      <td>6.490000</td>\n",
       "      <td>0.460000</td>\n",
       "      <td>312.370000</td>\n",
       "      <td>0.320000</td>\n",
       "      <td>149.857000</td>\n",
       "      <td>0.003000</td>\n",
       "      <td>1</td>\n",
       "    </tr>\n",
       "    <tr>\n",
       "      <th>3</th>\n",
       "      <td>0.457223</td>\n",
       "      <td>1.611000e-06</td>\n",
       "      <td>1.632903</td>\n",
       "      <td>0.719994</td>\n",
       "      <td>1.030000e-06</td>\n",
       "      <td>20.105759</td>\n",
       "      <td>0.000133</td>\n",
       "      <td>321.511105</td>\n",
       "      <td>0.000116</td>\n",
       "      <td>355.456295</td>\n",
       "      <td>0.000089</td>\n",
       "      <td>0</td>\n",
       "    </tr>\n",
       "    <tr>\n",
       "      <th>4</th>\n",
       "      <td>1.252622</td>\n",
       "      <td>3.197500e-07</td>\n",
       "      <td>2.749196</td>\n",
       "      <td>0.544368</td>\n",
       "      <td>1.032300e-07</td>\n",
       "      <td>9.806720</td>\n",
       "      <td>0.000014</td>\n",
       "      <td>58.997814</td>\n",
       "      <td>0.000248</td>\n",
       "      <td>258.145028</td>\n",
       "      <td>0.000084</td>\n",
       "      <td>0</td>\n",
       "    </tr>\n",
       "    <tr>\n",
       "      <th>...</th>\n",
       "      <td>...</td>\n",
       "      <td>...</td>\n",
       "      <td>...</td>\n",
       "      <td>...</td>\n",
       "      <td>...</td>\n",
       "      <td>...</td>\n",
       "      <td>...</td>\n",
       "      <td>...</td>\n",
       "      <td>...</td>\n",
       "      <td>...</td>\n",
       "      <td>...</td>\n",
       "      <td>...</td>\n",
       "    </tr>\n",
       "    <tr>\n",
       "      <th>7387</th>\n",
       "      <td>0.542169</td>\n",
       "      <td>5.821000e-05</td>\n",
       "      <td>0.875558</td>\n",
       "      <td>0.380774</td>\n",
       "      <td>6.500500e-05</td>\n",
       "      <td>16.121236</td>\n",
       "      <td>0.003261</td>\n",
       "      <td>244.198429</td>\n",
       "      <td>0.000915</td>\n",
       "      <td>149.182417</td>\n",
       "      <td>0.001664</td>\n",
       "      <td>0</td>\n",
       "    </tr>\n",
       "    <tr>\n",
       "      <th>7388</th>\n",
       "      <td>0.661300</td>\n",
       "      <td>9.130000e-03</td>\n",
       "      <td>2.410000</td>\n",
       "      <td>0.725300</td>\n",
       "      <td>1.270000e-02</td>\n",
       "      <td>2.200000</td>\n",
       "      <td>0.570000</td>\n",
       "      <td>257.590000</td>\n",
       "      <td>1.620000</td>\n",
       "      <td>323.161000</td>\n",
       "      <td>0.011000</td>\n",
       "      <td>1</td>\n",
       "    </tr>\n",
       "    <tr>\n",
       "      <th>7389</th>\n",
       "      <td>1.256004</td>\n",
       "      <td>3.760900e-07</td>\n",
       "      <td>2.115187</td>\n",
       "      <td>0.406197</td>\n",
       "      <td>1.756400e-07</td>\n",
       "      <td>28.681173</td>\n",
       "      <td>0.000018</td>\n",
       "      <td>330.753677</td>\n",
       "      <td>0.000072</td>\n",
       "      <td>132.064346</td>\n",
       "      <td>0.000007</td>\n",
       "      <td>0</td>\n",
       "    </tr>\n",
       "    <tr>\n",
       "      <th>7390</th>\n",
       "      <td>0.972850</td>\n",
       "      <td>4.300000e-04</td>\n",
       "      <td>3.140000</td>\n",
       "      <td>0.689900</td>\n",
       "      <td>2.200000e-03</td>\n",
       "      <td>23.150000</td>\n",
       "      <td>0.040000</td>\n",
       "      <td>18.110000</td>\n",
       "      <td>0.200000</td>\n",
       "      <td>37.232000</td>\n",
       "      <td>0.000000</td>\n",
       "      <td>1</td>\n",
       "    </tr>\n",
       "    <tr>\n",
       "      <th>7391</th>\n",
       "      <td>1.274121</td>\n",
       "      <td>2.899100e-06</td>\n",
       "      <td>1.874346</td>\n",
       "      <td>0.320232</td>\n",
       "      <td>2.046100e-06</td>\n",
       "      <td>38.830683</td>\n",
       "      <td>0.000115</td>\n",
       "      <td>161.866821</td>\n",
       "      <td>0.000208</td>\n",
       "      <td>253.255913</td>\n",
       "      <td>0.000136</td>\n",
       "      <td>0</td>\n",
       "    </tr>\n",
       "  </tbody>\n",
       "</table>\n",
       "<p>7392 rows × 12 columns</p>\n",
       "</div>"
      ],
      "text/plain": [
       "         q(AU)        qerror     a(AU)         e        eerror  i(º,J2000)  \\\n",
       "0     1.202790  1.269800e-07  1.377223  0.126656  8.990400e-08   13.664672   \n",
       "1     0.640327  2.551000e-07  1.548883  0.586588  1.567800e-07    8.554460   \n",
       "2     0.263830  2.510000e-03  1.260000  0.790500  2.800000e-03    6.490000   \n",
       "3     0.457223  1.611000e-06  1.632903  0.719994  1.030000e-06   20.105759   \n",
       "4     1.252622  3.197500e-07  2.749196  0.544368  1.032300e-07    9.806720   \n",
       "...        ...           ...       ...       ...           ...         ...   \n",
       "7387  0.542169  5.821000e-05  0.875558  0.380774  6.500500e-05   16.121236   \n",
       "7388  0.661300  9.130000e-03  2.410000  0.725300  1.270000e-02    2.200000   \n",
       "7389  1.256004  3.760900e-07  2.115187  0.406197  1.756400e-07   28.681173   \n",
       "7390  0.972850  4.300000e-04  3.140000  0.689900  2.200000e-03   23.150000   \n",
       "7391  1.274121  2.899100e-06  1.874346  0.320232  2.046100e-06   38.830683   \n",
       "\n",
       "        ierror        w(º)    werror     Node(º)  Nodeerror  danger  \n",
       "0     0.000011  144.828132  0.000094  319.015283   0.000026       0  \n",
       "1     0.000019  293.329681  0.000041  144.052793   0.000028       0  \n",
       "2     0.460000  312.370000  0.320000  149.857000   0.003000       1  \n",
       "3     0.000133  321.511105  0.000116  355.456295   0.000089       0  \n",
       "4     0.000014   58.997814  0.000248  258.145028   0.000084       0  \n",
       "...        ...         ...       ...         ...        ...     ...  \n",
       "7387  0.003261  244.198429  0.000915  149.182417   0.001664       0  \n",
       "7388  0.570000  257.590000  1.620000  323.161000   0.011000       1  \n",
       "7389  0.000018  330.753677  0.000072  132.064346   0.000007       0  \n",
       "7390  0.040000   18.110000  0.200000   37.232000   0.000000       1  \n",
       "7391  0.000115  161.866821  0.000208  253.255913   0.000136       0  \n",
       "\n",
       "[7392 rows x 12 columns]"
      ]
     },
     "execution_count": 2,
     "metadata": {},
     "output_type": "execute_result"
    }
   ],
   "source": [
    "CAMS = pd.read_csv('TrainingToGo.csv')\n",
    "CAMS"
   ]
  },
  {
   "cell_type": "code",
   "execution_count": 276,
   "metadata": {},
   "outputs": [
    {
     "data": {
      "text/plain": [
       "0    5706\n",
       "1    1686\n",
       "Name: danger, dtype: int64"
      ]
     },
     "execution_count": 276,
     "metadata": {},
     "output_type": "execute_result"
    }
   ],
   "source": [
    "CAMS['danger'].value_counts()"
   ]
  },
  {
   "cell_type": "code",
   "execution_count": null,
   "metadata": {},
   "outputs": [],
   "source": [
    "#Feature Values Distribution"
   ]
  },
  {
   "cell_type": "code",
   "execution_count": 267,
   "metadata": {},
   "outputs": [
    {
     "data": {
      "text/plain": [
       "<matplotlib.axes._subplots.AxesSubplot at 0x1a2c66f3d0>"
      ]
     },
     "execution_count": 267,
     "metadata": {},
     "output_type": "execute_result"
    },
    {
     "data": {
      "image/png": "[encoded data removed]",
      "text/plain": [
       "<Figure size 432x288 with 1 Axes>"
      ]
     },
     "metadata": {
      "needs_background": "light"
     },
     "output_type": "display_data"
    }
   ],
   "source": [
    "\n",
    "pd.plotting.parallel_coordinates(\n",
    "    CAMS[['q(AU)','e','danger']], 'danger', color=('#556270', '#4ECDC4')\n",
    ")"
   ]
  },
  {
   "cell_type": "code",
   "execution_count": 268,
   "metadata": {},
   "outputs": [
    {
     "data": {
      "text/plain": [
       "<matplotlib.axes._subplots.AxesSubplot at 0x1a268b2150>"
      ]
     },
     "execution_count": 268,
     "metadata": {},
     "output_type": "execute_result"
    },
    {
     "data": {
      "image/png": "[encoded data removed]",
      "text/plain": [
       "<Figure size 432x288 with 1 Axes>"
      ]
     },
     "metadata": {
      "needs_background": "light"
     },
     "output_type": "display_data"
    }
   ],
   "source": [
    "\n",
    "pd.plotting.parallel_coordinates(\n",
    "    CAMS[['i(º,J2000)','w(º)','Node(º)','danger']], 'danger', color=('#556270', '#4ECDC4')\n",
    ")"
   ]
  },
  {
   "cell_type": "code",
   "execution_count": 252,
   "metadata": {},
   "outputs": [
    {
     "data": {
      "text/plain": [
       "array([[1.20e+00, 1.27e-01, 1.37e+01, 1.45e+02, 3.19e+02],\n",
       "       [6.40e-01, 5.87e-01, 8.55e+00, 2.93e+02, 1.44e+02],\n",
       "       [2.64e-01, 7.90e-01, 6.49e+00, 3.12e+02, 1.50e+02],\n",
       "       ...,\n",
       "       [1.26e+00, 4.06e-01, 2.87e+01, 3.31e+02, 1.32e+02],\n",
       "       [9.73e-01, 6.90e-01, 2.31e+01, 1.81e+01, 3.72e+01],\n",
       "       [1.27e+00, 3.20e-01, 3.88e+01, 1.62e+02, 2.53e+02]])"
      ]
     },
     "execution_count": 252,
     "metadata": {},
     "output_type": "execute_result"
    }
   ],
   "source": [
    "X = CAMS[['q(AU)','e','i(º,J2000)','w(º)','Node(º)']].values  #.astype(float)\n",
    "X"
   ]
  },
  {
   "cell_type": "code",
   "execution_count": 95,
   "metadata": {},
   "outputs": [
    {
     "data": {
      "text/plain": [
       "array([0, 0, 1, 0, 0])"
      ]
     },
     "execution_count": 95,
     "metadata": {},
     "output_type": "execute_result"
    }
   ],
   "source": [
    "y = CAMS['danger'].values\n",
    "y[0:5]"
   ]
  },
  {
   "cell_type": "code",
   "execution_count": 17,
   "metadata": {},
   "outputs": [],
   "source": [
    "from sklearn.neighbors import KNeighborsClassifier"
   ]
  },
  {
   "cell_type": "code",
   "execution_count": null,
   "metadata": {},
   "outputs": [],
   "source": [
    "#Normalization only for Training Data Set"
   ]
  },
  {
   "cell_type": "code",
   "execution_count": 269,
   "metadata": {
    "scrolled": true
   },
   "outputs": [
    {
     "data": {
      "text/plain": [
       "array([[ 0.98, -2.08, -0.4 , -0.4 ,  1.4 ],\n",
       "       [-0.69,  0.19, -0.74,  1.06, -0.3 ],\n",
       "       [-1.81,  1.2 , -0.88,  1.25, -0.24],\n",
       "       [-1.23,  0.85,  0.04,  1.34,  1.76],\n",
       "       [ 1.12, -0.02, -0.66, -1.25,  0.81]])"
      ]
     },
     "execution_count": 269,
     "metadata": {},
     "output_type": "execute_result"
    }
   ],
   "source": [
    "X_in = preprocessing.StandardScaler().fit(X).transform(X.astype(float))\n",
    "X_in[0:5]"
   ]
  },
  {
   "cell_type": "code",
   "execution_count": 270,
   "metadata": {},
   "outputs": [
    {
     "name": "stdout",
     "output_type": "stream",
     "text": [
      "Train set: (5913, 5) (5913,)\n",
      "Test set: (1479, 5) (1479,)\n"
     ]
    }
   ],
   "source": [
    "from sklearn.model_selection import train_test_split\n",
    "X_train, X_test, y_train, y_test = train_test_split( X_in, y, test_size=0.2, random_state=5)\n",
    "print ('Train set:', X_train.shape,  y_train.shape)\n",
    "print ('Test set:', X_test.shape,  y_test.shape)"
   ]
  },
  {
   "cell_type": "code",
   "execution_count": null,
   "metadata": {},
   "outputs": [],
   "source": [
    "#KNN Model"
   ]
  },
  {
   "cell_type": "code",
   "execution_count": 277,
   "metadata": {},
   "outputs": [
    {
     "data": {
      "text/plain": [
       "KNeighborsClassifier(algorithm='auto', leaf_size=30, metric='minkowski',\n",
       "                     metric_params=None, n_jobs=None, n_neighbors=5, p=2,\n",
       "                     weights='distance')"
      ]
     },
     "execution_count": 277,
     "metadata": {},
     "output_type": "execute_result"
    }
   ],
   "source": [
    "k = 5\n",
    "#Train Model and Predict  \n",
    "neigh = KNeighborsClassifier(n_neighbors = k,weights='distance').fit(X_train,y_train)\n",
    "neigh"
   ]
  },
  {
   "cell_type": "code",
   "execution_count": 278,
   "metadata": {},
   "outputs": [
    {
     "data": {
      "text/plain": [
       "array([0, 0, 0, 1, 0])"
      ]
     },
     "execution_count": 278,
     "metadata": {},
     "output_type": "execute_result"
    }
   ],
   "source": [
    "yhat = neigh.predict(X_test)\n",
    "yhat[0:5]"
   ]
  },
  {
   "cell_type": "code",
   "execution_count": 279,
   "metadata": {},
   "outputs": [
    {
     "name": "stdout",
     "output_type": "stream",
     "text": [
      "Train set Accuracy:  1.0\n",
      "Test set Accuracy:  0.9357674104124408\n"
     ]
    }
   ],
   "source": [
    "from sklearn import metrics\n",
    "print(\"Train set Accuracy: \", metrics.accuracy_score(y_train, neigh.predict(X_train)))\n",
    "print(\"Test set Accuracy: \", metrics.accuracy_score(y_test, yhat))"
   ]
  },
  {
   "cell_type": "code",
   "execution_count": 55,
   "metadata": {},
   "outputs": [
    {
     "data": {
      "text/plain": [
       "array([0.94, 0.93, 0.94, 0.94, 0.93, 0.94, 0.93, 0.93, 0.93])"
      ]
     },
     "execution_count": 55,
     "metadata": {},
     "output_type": "execute_result"
    }
   ],
   "source": [
    "Ks = 10\n",
    "mean_acc = np.zeros((Ks-1))\n",
    "std_acc = np.zeros((Ks-1))\n",
    "ConfustionMx = [];\n",
    "for n in range(1,Ks):\n",
    "    \n",
    "    #Train Model and Predict  \n",
    "    neigh = KNeighborsClassifier(n_neighbors = n).fit(X_train,y_train)\n",
    "    yhat=neigh.predict(X_test)\n",
    "    mean_acc[n-1] = metrics.accuracy_score(y_test, yhat)\n",
    "\n",
    "    \n",
    "    std_acc[n-1]=np.std(yhat==y_test)/np.sqrt(yhat.shape[0])\n",
    "\n",
    "mean_acc"
   ]
  },
  {
   "cell_type": "code",
   "execution_count": 56,
   "metadata": {},
   "outputs": [
    {
     "data": {
      "image/png": "[encoded data removed]",
      "text/plain": [
       "<Figure size 432x288 with 1 Axes>"
      ]
     },
     "metadata": {
      "needs_background": "light"
     },
     "output_type": "display_data"
    }
   ],
   "source": [
    "plt.plot(range(1,Ks),mean_acc,'g')\n",
    "plt.fill_between(range(1,Ks),mean_acc - 1 * std_acc,mean_acc + 1 * std_acc, alpha=0.10)\n",
    "plt.legend(('Accuracy ', '+/- 3xstd'))\n",
    "plt.ylabel('Accuracy ')\n",
    "plt.xlabel('Number of Nabors (K)')\n",
    "plt.tight_layout()\n",
    "plt.show()"
   ]
  },
  {
   "cell_type": "code",
   "execution_count": 57,
   "metadata": {},
   "outputs": [
    {
     "name": "stdout",
     "output_type": "stream",
     "text": [
      "The best accuracy was with 0.9411764705882353 with k= 3\n"
     ]
    }
   ],
   "source": [
    "print( \"The best accuracy was with\", mean_acc.max(), \"with k=\", mean_acc.argmax()+1) "
   ]
  },
  {
   "cell_type": "code",
   "execution_count": 274,
   "metadata": {},
   "outputs": [
    {
     "name": "stdout",
     "output_type": "stream",
     "text": [
      "[[ 282   50]\n",
      " [  35 1112]]\n"
     ]
    }
   ],
   "source": [
    "from sklearn.metrics import classification_report, confusion_matrix\n",
    "import itertools\n",
    "def plot_confusion_matrix(cm, classes,\n",
    "                          normalize=False,\n",
    "                          title='Confusion matrix',\n",
    "                          cmap=plt.cm.Blues):\n",
    "    \"\"\"\n",
    "    This function prints and plots the confusion matrix.\n",
    "    Normalization can be applied by setting `normalize=True`.\n",
    "    \"\"\"\n",
    "    if normalize:\n",
    "        cm = cm.astype('float') / cm.sum(axis=1)[:, np.newaxis]\n",
    "        print(\"Normalized confusion matrix\")\n",
    "    else:\n",
    "        print('Confusion matrix, without normalization')\n",
    "\n",
    "    print(cm)\n",
    "\n",
    "    plt.imshow(cm, interpolation='nearest', cmap=cmap)\n",
    "    plt.title(title)\n",
    "    plt.colorbar()\n",
    "    tick_marks = np.arange(len(classes))\n",
    "    plt.xticks(tick_marks, classes, rotation=45)\n",
    "    plt.yticks(tick_marks, classes)\n",
    "\n",
    "    fmt = '.2f' if normalize else 'd'\n",
    "    thresh = cm.max() / 2.\n",
    "    for i, j in itertools.product(range(cm.shape[0]), range(cm.shape[1])):\n",
    "        plt.text(j, i, format(cm[i, j], fmt),\n",
    "                 horizontalalignment=\"center\",\n",
    "                 color=\"white\" if cm[i, j] > thresh else \"black\")\n",
    "\n",
    "    plt.tight_layout()\n",
    "    plt.ylabel('True label')\n",
    "    plt.xlabel('Predicted label')\n",
    "print(confusion_matrix(y_test, yhat, labels=[1,0]))"
   ]
  },
  {
   "cell_type": "code",
   "execution_count": 275,
   "metadata": {},
   "outputs": [
    {
     "name": "stdout",
     "output_type": "stream",
     "text": [
      "Confusion matrix, without normalization\n",
      "[[ 282   50]\n",
      " [  35 1112]]\n"
     ]
    },
    {
     "data": {
      "image/png": "[encoded data removed]",
      "text/plain": [
       "<Figure size 432x288 with 2 Axes>"
      ]
     },
     "metadata": {
      "needs_background": "light"
     },
     "output_type": "display_data"
    }
   ],
   "source": [
    "# Compute confusion matrix\n",
    "cnf_matrix = confusion_matrix(y_test, yhat, labels=[1,0])\n",
    "np.set_printoptions(precision=2)\n",
    "\n",
    "\n",
    "# Plot non-normalized confusion matrix\n",
    "plt.figure()\n",
    "plot_confusion_matrix(cnf_matrix, classes=['pha=1','pha=0'],normalize= False,  title='Confusion matrix')"
   ]
  },
  {
   "cell_type": "code",
   "execution_count": 60,
   "metadata": {},
   "outputs": [
    {
     "name": "stdout",
     "output_type": "stream",
     "text": [
      "              precision    recall  f1-score   support\n",
      "\n",
      "           0       0.95      0.97      0.96      1147\n",
      "           1       0.88      0.81      0.84       332\n",
      "\n",
      "    accuracy                           0.93      1479\n",
      "   macro avg       0.91      0.89      0.90      1479\n",
      "weighted avg       0.93      0.93      0.93      1479\n",
      "\n"
     ]
    }
   ],
   "source": [
    "print (classification_report(y_test, yhat))"
   ]
  },
  {
   "cell_type": "code",
   "execution_count": null,
   "metadata": {},
   "outputs": [],
   "source": [
    "\n",
    "\n",
    "\n",
    "\n",
    "\n",
    "\n",
    "\n",
    "\n",
    "\n",
    "\n",
    "\n",
    "\n",
    "\n",
    "\n",
    "\n",
    "\n",
    "\n",
    "\n",
    "\n",
    "\n",
    "\n",
    "\n",
    "\n",
    "\n",
    "\n",
    "\n",
    "\n",
    "\n",
    "\n",
    "\n",
    "\n",
    "\n",
    "\n",
    "\n"
   ]
  },
  {
   "cell_type": "code",
   "execution_count": null,
   "metadata": {},
   "outputs": [],
   "source": [
    "#Import Prediction Data Set"
   ]
  },
  {
   "cell_type": "code",
   "execution_count": 61,
   "metadata": {
    "scrolled": true
   },
   "outputs": [
    {
     "data": {
      "text/html": [
       "<div>\n",
       "<style scoped>\n",
       "    .dataframe tbody tr th:only-of-type {\n",
       "        vertical-align: middle;\n",
       "    }\n",
       "\n",
       "    .dataframe tbody tr th {\n",
       "        vertical-align: top;\n",
       "    }\n",
       "\n",
       "    .dataframe thead th {\n",
       "        text-align: right;\n",
       "    }\n",
       "</style>\n",
       "<table border=\"1\" class=\"dataframe\">\n",
       "  <thead>\n",
       "    <tr style=\"text-align: right;\">\n",
       "      <th></th>\n",
       "      <th>q(AU)</th>\n",
       "      <th>qerror</th>\n",
       "      <th>a(AU)</th>\n",
       "      <th>e</th>\n",
       "      <th>eerror</th>\n",
       "      <th>i(º,J2000)</th>\n",
       "      <th>ierror</th>\n",
       "      <th>w(º)</th>\n",
       "      <th>werror</th>\n",
       "      <th>Node(º)</th>\n",
       "      <th>Nodeerror</th>\n",
       "      <th>danger</th>\n",
       "    </tr>\n",
       "  </thead>\n",
       "  <tbody>\n",
       "    <tr>\n",
       "      <th>0</th>\n",
       "      <td>1.138769</td>\n",
       "      <td>1.292000e-07</td>\n",
       "      <td>1.924946</td>\n",
       "      <td>0.408415</td>\n",
       "      <td>6.618900e-08</td>\n",
       "      <td>7.309432</td>\n",
       "      <td>0.000009</td>\n",
       "      <td>234.271687</td>\n",
       "      <td>0.000079</td>\n",
       "      <td>112.483611</td>\n",
       "      <td>0.000065</td>\n",
       "      <td>0</td>\n",
       "    </tr>\n",
       "    <tr>\n",
       "      <th>1</th>\n",
       "      <td>0.888487</td>\n",
       "      <td>1.052000e-07</td>\n",
       "      <td>1.963527</td>\n",
       "      <td>0.547505</td>\n",
       "      <td>5.408600e-08</td>\n",
       "      <td>23.622233</td>\n",
       "      <td>0.000021</td>\n",
       "      <td>186.709984</td>\n",
       "      <td>0.000102</td>\n",
       "      <td>148.640539</td>\n",
       "      <td>0.000109</td>\n",
       "      <td>0</td>\n",
       "    </tr>\n",
       "    <tr>\n",
       "      <th>2</th>\n",
       "      <td>1.079568</td>\n",
       "      <td>3.835400e-07</td>\n",
       "      <td>2.516283</td>\n",
       "      <td>0.570967</td>\n",
       "      <td>1.537800e-07</td>\n",
       "      <td>14.672749</td>\n",
       "      <td>0.000022</td>\n",
       "      <td>37.383162</td>\n",
       "      <td>0.000123</td>\n",
       "      <td>167.346930</td>\n",
       "      <td>0.000041</td>\n",
       "      <td>0</td>\n",
       "    </tr>\n",
       "    <tr>\n",
       "      <th>3</th>\n",
       "      <td>0.960751</td>\n",
       "      <td>1.292700e-07</td>\n",
       "      <td>1.113587</td>\n",
       "      <td>0.137247</td>\n",
       "      <td>1.137800e-07</td>\n",
       "      <td>8.822850</td>\n",
       "      <td>0.000018</td>\n",
       "      <td>350.852525</td>\n",
       "      <td>0.000094</td>\n",
       "      <td>268.882125</td>\n",
       "      <td>0.000059</td>\n",
       "      <td>0</td>\n",
       "    </tr>\n",
       "    <tr>\n",
       "      <th>4</th>\n",
       "      <td>0.554991</td>\n",
       "      <td>1.293700e-07</td>\n",
       "      <td>1.621008</td>\n",
       "      <td>0.657626</td>\n",
       "      <td>7.934900e-08</td>\n",
       "      <td>24.390598</td>\n",
       "      <td>0.000010</td>\n",
       "      <td>77.753498</td>\n",
       "      <td>0.000022</td>\n",
       "      <td>77.703922</td>\n",
       "      <td>0.000025</td>\n",
       "      <td>1</td>\n",
       "    </tr>\n",
       "    <tr>\n",
       "      <th>...</th>\n",
       "      <td>...</td>\n",
       "      <td>...</td>\n",
       "      <td>...</td>\n",
       "      <td>...</td>\n",
       "      <td>...</td>\n",
       "      <td>...</td>\n",
       "      <td>...</td>\n",
       "      <td>...</td>\n",
       "      <td>...</td>\n",
       "      <td>...</td>\n",
       "      <td>...</td>\n",
       "      <td>...</td>\n",
       "    </tr>\n",
       "    <tr>\n",
       "      <th>1836</th>\n",
       "      <td>1.168239</td>\n",
       "      <td>7.980500e-07</td>\n",
       "      <td>1.749853</td>\n",
       "      <td>0.332379</td>\n",
       "      <td>4.574400e-07</td>\n",
       "      <td>11.582987</td>\n",
       "      <td>0.000025</td>\n",
       "      <td>232.633609</td>\n",
       "      <td>0.000081</td>\n",
       "      <td>256.359912</td>\n",
       "      <td>0.000049</td>\n",
       "      <td>0</td>\n",
       "    </tr>\n",
       "    <tr>\n",
       "      <th>1837</th>\n",
       "      <td>1.146088</td>\n",
       "      <td>7.207000e-07</td>\n",
       "      <td>2.218476</td>\n",
       "      <td>0.483389</td>\n",
       "      <td>4.288900e-07</td>\n",
       "      <td>30.482511</td>\n",
       "      <td>0.000026</td>\n",
       "      <td>159.497966</td>\n",
       "      <td>0.000101</td>\n",
       "      <td>224.171131</td>\n",
       "      <td>0.000068</td>\n",
       "      <td>0</td>\n",
       "    </tr>\n",
       "    <tr>\n",
       "      <th>1838</th>\n",
       "      <td>0.688945</td>\n",
       "      <td>3.178300e-04</td>\n",
       "      <td>2.300334</td>\n",
       "      <td>0.700502</td>\n",
       "      <td>9.273500e-04</td>\n",
       "      <td>7.690269</td>\n",
       "      <td>0.006299</td>\n",
       "      <td>218.017074</td>\n",
       "      <td>0.009358</td>\n",
       "      <td>41.444249</td>\n",
       "      <td>0.015094</td>\n",
       "      <td>0</td>\n",
       "    </tr>\n",
       "    <tr>\n",
       "      <th>1839</th>\n",
       "      <td>1.067409</td>\n",
       "      <td>1.925800e-07</td>\n",
       "      <td>1.766268</td>\n",
       "      <td>0.395670</td>\n",
       "      <td>1.076500e-07</td>\n",
       "      <td>36.438313</td>\n",
       "      <td>0.000024</td>\n",
       "      <td>286.823542</td>\n",
       "      <td>0.000047</td>\n",
       "      <td>174.560855</td>\n",
       "      <td>0.000015</td>\n",
       "      <td>0</td>\n",
       "    </tr>\n",
       "    <tr>\n",
       "      <th>1840</th>\n",
       "      <td>1.022997</td>\n",
       "      <td>2.222800e-07</td>\n",
       "      <td>2.230317</td>\n",
       "      <td>0.541322</td>\n",
       "      <td>9.981800e-08</td>\n",
       "      <td>39.647737</td>\n",
       "      <td>0.000014</td>\n",
       "      <td>4.612008</td>\n",
       "      <td>0.000016</td>\n",
       "      <td>267.205043</td>\n",
       "      <td>0.000014</td>\n",
       "      <td>1</td>\n",
       "    </tr>\n",
       "  </tbody>\n",
       "</table>\n",
       "<p>1841 rows × 12 columns</p>\n",
       "</div>"
      ],
      "text/plain": [
       "         q(AU)        qerror     a(AU)         e        eerror  i(º,J2000)  \\\n",
       "0     1.138769  1.292000e-07  1.924946  0.408415  6.618900e-08    7.309432   \n",
       "1     0.888487  1.052000e-07  1.963527  0.547505  5.408600e-08   23.622233   \n",
       "2     1.079568  3.835400e-07  2.516283  0.570967  1.537800e-07   14.672749   \n",
       "3     0.960751  1.292700e-07  1.113587  0.137247  1.137800e-07    8.822850   \n",
       "4     0.554991  1.293700e-07  1.621008  0.657626  7.934900e-08   24.390598   \n",
       "...        ...           ...       ...       ...           ...         ...   \n",
       "1836  1.168239  7.980500e-07  1.749853  0.332379  4.574400e-07   11.582987   \n",
       "1837  1.146088  7.207000e-07  2.218476  0.483389  4.288900e-07   30.482511   \n",
       "1838  0.688945  3.178300e-04  2.300334  0.700502  9.273500e-04    7.690269   \n",
       "1839  1.067409  1.925800e-07  1.766268  0.395670  1.076500e-07   36.438313   \n",
       "1840  1.022997  2.222800e-07  2.230317  0.541322  9.981800e-08   39.647737   \n",
       "\n",
       "        ierror        w(º)    werror     Node(º)  Nodeerror  danger  \n",
       "0     0.000009  234.271687  0.000079  112.483611   0.000065       0  \n",
       "1     0.000021  186.709984  0.000102  148.640539   0.000109       0  \n",
       "2     0.000022   37.383162  0.000123  167.346930   0.000041       0  \n",
       "3     0.000018  350.852525  0.000094  268.882125   0.000059       0  \n",
       "4     0.000010   77.753498  0.000022   77.703922   0.000025       1  \n",
       "...        ...         ...       ...         ...        ...     ...  \n",
       "1836  0.000025  232.633609  0.000081  256.359912   0.000049       0  \n",
       "1837  0.000026  159.497966  0.000101  224.171131   0.000068       0  \n",
       "1838  0.006299  218.017074  0.009358   41.444249   0.015094       0  \n",
       "1839  0.000024  286.823542  0.000047  174.560855   0.000015       0  \n",
       "1840  0.000014    4.612008  0.000016  267.205043   0.000014       1  \n",
       "\n",
       "[1841 rows x 12 columns]"
      ]
     },
     "execution_count": 61,
     "metadata": {},
     "output_type": "execute_result"
    }
   ],
   "source": [
    "Test = pd.read_csv('TestingToGo.csv')\n",
    "Test"
   ]
  },
  {
   "cell_type": "code",
   "execution_count": 62,
   "metadata": {},
   "outputs": [
    {
     "data": {
      "text/plain": [
       "0    1436\n",
       "1     405\n",
       "Name: danger, dtype: int64"
      ]
     },
     "execution_count": 62,
     "metadata": {},
     "output_type": "execute_result"
    }
   ],
   "source": [
    "Test['danger'].value_counts()"
   ]
  },
  {
   "cell_type": "code",
   "execution_count": 253,
   "metadata": {},
   "outputs": [
    {
     "data": {
      "text/plain": [
       "array([[  1.14,   0.41,   7.31, 234.27, 112.48],\n",
       "       [  0.89,   0.55,  23.62, 186.71, 148.64],\n",
       "       [  1.08,   0.57,  14.67,  37.38, 167.35],\n",
       "       ...,\n",
       "       [  0.69,   0.7 ,   7.69, 218.02,  41.44],\n",
       "       [  1.07,   0.4 ,  36.44, 286.82, 174.56],\n",
       "       [  1.02,   0.54,  39.65,   4.61, 267.21]])"
      ]
     },
     "execution_count": 253,
     "metadata": {},
     "output_type": "execute_result"
    }
   ],
   "source": [
    "V = Test[['q(AU)','e','i(º,J2000)','w(º)','Node(º)']].values  #.astype(float)\n",
    "V"
   ]
  },
  {
   "cell_type": "code",
   "execution_count": 98,
   "metadata": {},
   "outputs": [
    {
     "data": {
      "text/plain": [
       "array([0, 0, 0, 0, 1])"
      ]
     },
     "execution_count": 98,
     "metadata": {},
     "output_type": "execute_result"
    }
   ],
   "source": [
    "w = Test['danger'].values\n",
    "w[0:5]"
   ]
  },
  {
   "cell_type": "code",
   "execution_count": null,
   "metadata": {},
   "outputs": [],
   "source": [
    "#Normalization for Training and Prediction Data Set Altogether"
   ]
  },
  {
   "cell_type": "code",
   "execution_count": 254,
   "metadata": {
    "scrolled": true
   },
   "outputs": [
    {
     "data": {
      "text/plain": [
       "array([[1.20e+00, 1.27e-01, 1.37e+01, 1.45e+02, 3.19e+02],\n",
       "       [6.40e-01, 5.87e-01, 8.55e+00, 2.93e+02, 1.44e+02],\n",
       "       [2.64e-01, 7.90e-01, 6.49e+00, 3.12e+02, 1.50e+02],\n",
       "       ...,\n",
       "       [6.89e-01, 7.01e-01, 7.69e+00, 2.18e+02, 4.14e+01],\n",
       "       [1.07e+00, 3.96e-01, 3.64e+01, 2.87e+02, 1.75e+02],\n",
       "       [1.02e+00, 5.41e-01, 3.96e+01, 4.61e+00, 2.67e+02]])"
      ]
     },
     "execution_count": 254,
     "metadata": {},
     "output_type": "execute_result"
    }
   ],
   "source": [
    "A=np.concatenate((X, V), axis=0)\n",
    "A"
   ]
  },
  {
   "cell_type": "code",
   "execution_count": 255,
   "metadata": {},
   "outputs": [
    {
     "data": {
      "text/plain": [
       "array([[ 0.98, -2.08, -0.38, -0.39,  1.42],\n",
       "       [-0.74,  0.24, -0.74,  1.07, -0.29],\n",
       "       [-1.89,  1.27, -0.88,  1.26, -0.24],\n",
       "       ...,\n",
       "       [-0.59,  0.82, -0.8 ,  0.33, -1.29],\n",
       "       [ 0.56, -0.72,  1.19,  1.01,  0.01],\n",
       "       [ 0.43,  0.01,  1.41, -1.76,  0.91]])"
      ]
     },
     "execution_count": 255,
     "metadata": {},
     "output_type": "execute_result"
    }
   ],
   "source": [
    "A = preprocessing.StandardScaler().fit(A).transform(A.astype(float))\n",
    "A"
   ]
  },
  {
   "cell_type": "code",
   "execution_count": 256,
   "metadata": {},
   "outputs": [
    {
     "data": {
      "text/plain": [
       "array([[ 0.98, -2.08, -0.38, -0.39,  1.42],\n",
       "       [-0.74,  0.24, -0.74,  1.07, -0.29],\n",
       "       [-1.89,  1.27, -0.88,  1.26, -0.24],\n",
       "       ...,\n",
       "       [ 1.14, -0.67,  0.65,  1.44, -0.41],\n",
       "       [ 0.27,  0.76,  0.27, -1.63, -1.34],\n",
       "       [ 1.19, -1.1 ,  1.36, -0.22,  0.77]])"
      ]
     },
     "execution_count": 256,
     "metadata": {},
     "output_type": "execute_result"
    }
   ],
   "source": [
    "X=A[:7392]\n",
    "X"
   ]
  },
  {
   "cell_type": "code",
   "execution_count": 257,
   "metadata": {
    "scrolled": true
   },
   "outputs": [
    {
     "data": {
      "text/plain": [
       "array([[ 0.78, -0.66, -0.82,  0.49, -0.6 ],\n",
       "       [ 0.02,  0.04,  0.3 ,  0.02, -0.25],\n",
       "       [ 0.6 ,  0.16, -0.31, -1.44, -0.06],\n",
       "       ...,\n",
       "       [-0.59,  0.82, -0.8 ,  0.33, -1.29],\n",
       "       [ 0.56, -0.72,  1.19,  1.01,  0.01],\n",
       "       [ 0.43,  0.01,  1.41, -1.76,  0.91]])"
      ]
     },
     "execution_count": 257,
     "metadata": {},
     "output_type": "execute_result"
    }
   ],
   "source": [
    "V=A[7392:]\n",
    "V"
   ]
  },
  {
   "cell_type": "code",
   "execution_count": null,
   "metadata": {},
   "outputs": [],
   "source": [
    "#KNN Model"
   ]
  },
  {
   "cell_type": "code",
   "execution_count": 280,
   "metadata": {},
   "outputs": [
    {
     "data": {
      "text/plain": [
       "KNeighborsClassifier(algorithm='auto', leaf_size=30, metric='minkowski',\n",
       "                     metric_params=None, n_jobs=None, n_neighbors=5, p=2,\n",
       "                     weights='distance')"
      ]
     },
     "execution_count": 280,
     "metadata": {},
     "output_type": "execute_result"
    }
   ],
   "source": [
    "\n",
    "kG = 5\n",
    "#Train Model and Predict  \n",
    "neighG = KNeighborsClassifier(n_neighbors = kG,weights='distance').fit(X,y)\n",
    "neighG"
   ]
  },
  {
   "cell_type": "code",
   "execution_count": 281,
   "metadata": {},
   "outputs": [
    {
     "data": {
      "text/plain": [
       "array([0, 1, 0, 0, 0])"
      ]
     },
     "execution_count": 281,
     "metadata": {},
     "output_type": "execute_result"
    }
   ],
   "source": [
    "what = neighG.predict(V)\n",
    "what[0:5]"
   ]
  },
  {
   "cell_type": "code",
   "execution_count": 282,
   "metadata": {},
   "outputs": [
    {
     "name": "stdout",
     "output_type": "stream",
     "text": [
      "Train set Accuracy:  1.0\n",
      "Test set Accuracy:  0.8164041281912005\n"
     ]
    }
   ],
   "source": [
    "from sklearn import metrics\n",
    "print(\"Train set Accuracy: \", metrics.accuracy_score(y, neighG.predict(X)))\n",
    "print(\"Test set Accuracy: \", metrics.accuracy_score(w, what))"
   ]
  },
  {
   "cell_type": "code",
   "execution_count": 283,
   "metadata": {},
   "outputs": [
    {
     "name": "stdout",
     "output_type": "stream",
     "text": [
      "[[ 122  283]\n",
      " [  55 1381]]\n"
     ]
    }
   ],
   "source": [
    "from sklearn.metrics import classification_report, confusion_matrix\n",
    "import itertools\n",
    "def plot_confusion_matrix(cm, classes,\n",
    "                          normalize=False,\n",
    "                          title='Confusion matrix',\n",
    "                          cmap=plt.cm.Blues):\n",
    "    \"\"\"\n",
    "    This function prints and plots the confusion matrix.\n",
    "    Normalization can be applied by setting `normalize=True`.\n",
    "    \"\"\"\n",
    "    if normalize:\n",
    "        cm = cm.astype('float') / cm.sum(axis=1)[:, np.newaxis]\n",
    "        print(\"Normalized confusion matrix\")\n",
    "    else:\n",
    "        print('Confusion matrix, without normalization')\n",
    "\n",
    "    print(cm)\n",
    "\n",
    "    plt.imshow(cm, interpolation='nearest', cmap=cmap)\n",
    "    plt.title(title)\n",
    "    plt.colorbar()\n",
    "    tick_marks = np.arange(len(classes))\n",
    "    plt.xticks(tick_marks, classes, rotation=45)\n",
    "    plt.yticks(tick_marks, classes)\n",
    "\n",
    "    fmt = '.2f' if normalize else 'd'\n",
    "    thresh = cm.max() / 2.\n",
    "    for i, j in itertools.product(range(cm.shape[0]), range(cm.shape[1])):\n",
    "        plt.text(j, i, format(cm[i, j], fmt),\n",
    "                 horizontalalignment=\"center\",\n",
    "                 color=\"white\" if cm[i, j] > thresh else \"black\")\n",
    "\n",
    "    plt.tight_layout()\n",
    "    plt.ylabel('True label')\n",
    "    plt.xlabel('Predicted label')\n",
    "print(confusion_matrix(w, what, labels=[1,0]))"
   ]
  },
  {
   "cell_type": "code",
   "execution_count": 286,
   "metadata": {},
   "outputs": [
    {
     "name": "stdout",
     "output_type": "stream",
     "text": [
      "Confusion matrix, without normalization\n",
      "[[ 122  283]\n",
      " [  55 1381]]\n"
     ]
    },
    {
     "data": {
      "image/png": "[encoded data removed]",
      "text/plain": [
       "<Figure size 432x288 with 2 Axes>"
      ]
     },
     "metadata": {
      "needs_background": "light"
     },
     "output_type": "display_data"
    }
   ],
   "source": [
    "# Compute confusion matrix\n",
    "cnf_matrix = confusion_matrix(w, what, labels=[1,0])\n",
    "np.set_printoptions(precision=2)\n",
    "\n",
    "\n",
    "# Plot non-normalized confusion matrix\n",
    "plt.figure()\n",
    "plot_confusion_matrix(cnf_matrix, classes=['hazardous=1','hazardous=0'],normalize= False,  title='Confusion matrix')"
   ]
  },
  {
   "cell_type": "code",
   "execution_count": 285,
   "metadata": {},
   "outputs": [
    {
     "name": "stdout",
     "output_type": "stream",
     "text": [
      "              precision    recall  f1-score   support\n",
      "\n",
      "           0       0.83      0.96      0.89      1436\n",
      "           1       0.69      0.30      0.42       405\n",
      "\n",
      "    accuracy                           0.82      1841\n",
      "   macro avg       0.76      0.63      0.66      1841\n",
      "weighted avg       0.80      0.82      0.79      1841\n",
      "\n"
     ]
    }
   ],
   "source": [
    "print (classification_report(w, what))"
   ]
  },
  {
   "cell_type": "code",
   "execution_count": null,
   "metadata": {},
   "outputs": [],
   "source": []
  }
 ],
 "metadata": {
  "kernelspec": {
   "display_name": "Python 3",
   "language": "python",
   "name": "python3"
  },
  "language_info": {
   "codemirror_mode": {
    "name": "ipython",
    "version": 3
   },
   "file_extension": ".py",
   "mimetype": "text/x-python",
   "name": "python",
   "nbconvert_exporter": "python",
   "pygments_lexer": "ipython3",
   "version": "3.7.6"
  }
 },
 "nbformat": 4,
 "nbformat_minor": 4
}
